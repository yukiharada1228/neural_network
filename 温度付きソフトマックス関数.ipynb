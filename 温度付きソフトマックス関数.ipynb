{
  "nbformat": 4,
  "nbformat_minor": 0,
  "metadata": {
    "colab": {
      "provenance": []
    },
    "kernelspec": {
      "name": "python3",
      "display_name": "Python 3"
    },
    "language_info": {
      "name": "python"
    }
  },
  "cells": [
    {
      "cell_type": "code",
      "execution_count": null,
      "metadata": {
        "id": "RB0bMjKJ9zkM"
      },
      "outputs": [],
      "source": [
        "import numpy as np\n",
        "from scipy.stats import norm\n",
        "from matplotlib import pyplot as plt"
      ]
    },
    {
      "cell_type": "code",
      "source": [
        "def softmax(x):\n",
        "    y = np.exp(x) / np.sum(np.exp(x), axis=1, keepdims=True)\n",
        "    return y\n",
        "\n",
        "def softmaxWithTemperature(x, t):\n",
        "   y = softmax(x / t)\n",
        "   return y"
      ],
      "metadata": {
        "id": "PxmrwNp499m5"
      },
      "execution_count": null,
      "outputs": []
    },
    {
      "cell_type": "code",
      "source": [
        "n_classes = 10\n",
        "left = np.linspace(0, n_classes-1, n_classes)\n",
        "p = np.array([[norm.pdf(x=i, loc=4.5, scale=1) for i in range(n_classes)]], \n",
        "             dtype=np.float32)\n",
        "labels = []\n",
        "sofmax_p = []\n",
        "t = 0.7 #@param {type:\"slider\", min:0.1, max:3, step:0.1}\n",
        "label = \"T=\" + str(t)\n",
        "softmax_p = softmaxWithTemperature(p, t)\n",
        "plt.bar(left, softmax_p.squeeze(),label=label)\n",
        "plt.legend()\n",
        "plt.show()"
      ],
      "metadata": {
        "id": "8MGL42x1G8w_",
        "colab": {
          "base_uri": "https://localhost:8080/",
          "height": 265
        },
        "outputId": "d1303a4a-2d25-42c3-9a90-ea2ec136354b"
      },
      "execution_count": 101,
      "outputs": [
        {
          "output_type": "display_data",
          "data": {
            "text/plain": [
              "<Figure size 432x288 with 1 Axes>"
            ],
            "image/png": "[encoded data removed]"
          },
          "metadata": {
            "needs_background": "light"
          }
        }
      ]
    }
  ]
}