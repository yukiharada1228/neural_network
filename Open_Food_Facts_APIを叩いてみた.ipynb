{
  "nbformat": 4,
  "nbformat_minor": 0,
  "metadata": {
    "colab": {
      "provenance": [],
      "authorship_tag": "ABX9TyMhWKpxtWFeviVjl5zq5pTF",
      "include_colab_link": true
    },
    "kernelspec": {
      "name": "python3",
      "display_name": "Python 3"
    },
    "language_info": {
      "name": "python"
    }
  },
  "cells": [
    {
      "cell_type": "markdown",
      "metadata": {
        "id": "view-in-github",
        "colab_type": "text"
      },
      "source": [
        "<a href=\"https://colab.research.google.com/github/yukiharada1228/neural_network/blob/main/Open_Food_Facts_API%E3%82%92%E5%8F%A9%E3%81%84%E3%81%A6%E3%81%BF%E3%81%9F.ipynb\" target=\"_parent\"><img src=\"https://colab.research.google.com/assets/colab-badge.svg\" alt=\"Open In Colab\"/></a>"
      ]
    },
    {
      "cell_type": "code",
      "execution_count": 21,
      "metadata": {
        "id": "KpR5qtpjjJD7"
      },
      "outputs": [],
      "source": [
        "import requests\n",
        "from IPython.display import HTML, display\n",
        "\n",
        "url = \"https://world.openfoodfacts.org/cgi/search.pl\"\n",
        "params = {\n",
        "    \"search_terms\": \"\",\n",
        "    \"search_simple\": \"1\",\n",
        "    \"action\": \"process\",\n",
        "    \"json\": \"1\",\n",
        "    \"page_size\": 20,\n",
        "    \"page\": 2,\n",
        "    \"tagtype_0\": \"countries\",\n",
        "    \"tag_contains_0\": \"contains\",\n",
        "    \"tag_0\": \"jp\"\n",
        "}\n",
        "\n",
        "response = requests.get(url, params=params)\n",
        "\n",
        "if response.status_code == 200:\n",
        "    data = response.json()\n",
        "else:\n",
        "    print(\"Request failed with status code:\", response.status_code)"
      ]
    },
    {
      "cell_type": "code",
      "source": [
        "for i in range(20):\n",
        "    image_url = data[\"products\"][i][\"image_url\"]\n",
        "    display(HTML(f\"<img src={image_url} />\"))"
      ],
      "metadata": {
        "colab": {
          "base_uri": "https://localhost:8080/",
          "height": 1000
        },
        "id": "90MeKpyljtPq",
        "outputId": "dd43b774-ec65-44ae-cfb6-54c947a8c733"
      },
      "execution_count": 22,
      "outputs": [
        {
          "output_type": "display_data",
          "data": {
            "text/plain": [
              "<IPython.core.display.HTML object>"
            ],
            "text/html": [
              "<img src=https://images.openfoodfacts.org/images/products/541/354/801/5552/front_fr.83.400.jpg />"
            ]
          },
          "metadata": {}
        },
        {
          "output_type": "display_data",
          "data": {
            "text/plain": [
              "<IPython.core.display.HTML object>"
            ],
            "text/html": [
              "<img src=https://images.openfoodfacts.org/images/products/576/046/699/5894/front_fr.69.400.jpg />"
            ]
          },
          "metadata": {}
        },
        {
          "output_type": "display_data",
          "data": {
            "text/plain": [
              "<IPython.core.display.HTML object>"
            ],
            "text/html": [
              "<img src=https://images.openfoodfacts.org/images/products/807/680/957/0657/front_fr.95.400.jpg />"
            ]
          },
          "metadata": {}
        },
        {
          "output_type": "display_data",
          "data": {
            "text/plain": [
              "<IPython.core.display.HTML object>"
            ],
            "text/html": [
              "<img src=https://images.openfoodfacts.org/images/products/800/790/000/0255/front_fr.35.400.jpg />"
            ]
          },
          "metadata": {}
        },
        {
          "output_type": "display_data",
          "data": {
            "text/plain": [
              "<IPython.core.display.HTML object>"
            ],
            "text/html": [
              "<img src=https://images.openfoodfacts.org/images/products/326/526/607/5026/front_fr.33.400.jpg />"
            ]
          },
          "metadata": {}
        },
        {
          "output_type": "display_data",
          "data": {
            "text/plain": [
              "<IPython.core.display.HTML object>"
            ],
            "text/html": [
              "<img src=https://images.openfoodfacts.org/images/products/503/886/213/7775/front_fr.20.400.jpg />"
            ]
          },
          "metadata": {}
        },
        {
          "output_type": "display_data",
          "data": {
            "text/plain": [
              "<IPython.core.display.HTML object>"
            ],
            "text/html": [
              "<img src=https://images.openfoodfacts.org/images/products/326/367/023/7719/front_fr.39.400.jpg />"
            ]
          },
          "metadata": {}
        },
        {
          "output_type": "display_data",
          "data": {
            "text/plain": [
              "<IPython.core.display.HTML object>"
            ],
            "text/html": [
              "<img src=https://images.openfoodfacts.org/images/products/322/802/392/0090/front_en.59.400.jpg />"
            ]
          },
          "metadata": {}
        },
        {
          "output_type": "display_data",
          "data": {
            "text/plain": [
              "<IPython.core.display.HTML object>"
            ],
            "text/html": [
              "<img src=https://images.openfoodfacts.org/images/products/316/595/832/2011/front_fr.25.400.jpg />"
            ]
          },
          "metadata": {}
        },
        {
          "output_type": "display_data",
          "data": {
            "text/plain": [
              "<IPython.core.display.HTML object>"
            ],
            "text/html": [
              "<img src=https://images.openfoodfacts.org/images/products/308/368/004/5087/front_fr.31.400.jpg />"
            ]
          },
          "metadata": {}
        },
        {
          "output_type": "display_data",
          "data": {
            "text/plain": [
              "<IPython.core.display.HTML object>"
            ],
            "text/html": [
              "<img src=https://images.openfoodfacts.org/images/products/490/000/276/24/front_en.3.400.jpg />"
            ]
          },
          "metadata": {}
        },
        {
          "output_type": "display_data",
          "data": {
            "text/plain": [
              "<IPython.core.display.HTML object>"
            ],
            "text/html": [
              "<img src=https://images.openfoodfacts.org/images/products/376/012/296/1999/front_fr.55.400.jpg />"
            ]
          },
          "metadata": {}
        },
        {
          "output_type": "display_data",
          "data": {
            "text/plain": [
              "<IPython.core.display.HTML object>"
            ],
            "text/html": [
              "<img src=https://images.openfoodfacts.org/images/products/342/827/405/0113/front_fr.4.400.jpg />"
            ]
          },
          "metadata": {}
        },
        {
          "output_type": "display_data",
          "data": {
            "text/plain": [
              "<IPython.core.display.HTML object>"
            ],
            "text/html": [
              "<img src=https://images.openfoodfacts.org/images/products/325/297/000/6057/front_fr.25.400.jpg />"
            ]
          },
          "metadata": {}
        },
        {
          "output_type": "display_data",
          "data": {
            "text/plain": [
              "<IPython.core.display.HTML object>"
            ],
            "text/html": [
              "<img src=https://images.openfoodfacts.org/images/products/30000131/front_fr.42.400.jpg />"
            ]
          },
          "metadata": {}
        },
        {
          "output_type": "display_data",
          "data": {
            "text/plain": [
              "<IPython.core.display.HTML object>"
            ],
            "text/html": [
              "<img src=https://images.openfoodfacts.org/images/products/349/791/700/0938/front_fr.56.400.jpg />"
            ]
          },
          "metadata": {}
        },
        {
          "output_type": "display_data",
          "data": {
            "text/plain": [
              "<IPython.core.display.HTML object>"
            ],
            "text/html": [
              "<img src=https://images.openfoodfacts.org/images/products/308/092/098/1983/front_fr.62.400.jpg />"
            ]
          },
          "metadata": {}
        },
        {
          "output_type": "display_data",
          "data": {
            "text/plain": [
              "<IPython.core.display.HTML object>"
            ],
            "text/html": [
              "<img src=https://images.openfoodfacts.org/images/products/301/908/123/7790/front_fr.26.400.jpg />"
            ]
          },
          "metadata": {}
        },
        {
          "output_type": "display_data",
          "data": {
            "text/plain": [
              "<IPython.core.display.HTML object>"
            ],
            "text/html": [
              "<img src=https://images.openfoodfacts.org/images/products/955/604/178/0612/front_fr.31.400.jpg />"
            ]
          },
          "metadata": {}
        },
        {
          "output_type": "display_data",
          "data": {
            "text/plain": [
              "<IPython.core.display.HTML object>"
            ],
            "text/html": [
              "<img src=https://images.openfoodfacts.org/images/products/306/562/001/1017/front_fr.16.400.jpg />"
            ]
          },
          "metadata": {}
        }
      ]
    },
    {
      "cell_type": "code",
      "source": [],
      "metadata": {
        "id": "3lFl__OQlJ7v"
      },
      "execution_count": null,
      "outputs": []
    }
  ]
}