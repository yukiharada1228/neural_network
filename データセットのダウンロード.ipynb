{
  "nbformat": 4,
  "nbformat_minor": 0,
  "metadata": {
    "colab": {
      "provenance": [],
      "authorship_tag": "ABX9TyOwsFvjaNulDDIx7rMOMDUB",
      "include_colab_link": true
    },
    "kernelspec": {
      "name": "python3",
      "display_name": "Python 3"
    },
    "language_info": {
      "name": "python"
    }
  },
  "cells": [
    {
      "cell_type": "markdown",
      "metadata": {
        "id": "view-in-github",
        "colab_type": "text"
      },
      "source": [
        "<a href=\"https://colab.research.google.com/github/yukiharada1228/neural_network/blob/main/%E3%83%87%E3%83%BC%E3%82%BF%E3%82%BB%E3%83%83%E3%83%88%E3%81%AE%E3%83%80%E3%82%A6%E3%83%B3%E3%83%AD%E3%83%BC%E3%83%89.ipynb\" target=\"_parent\"><img src=\"https://colab.research.google.com/assets/colab-badge.svg\" alt=\"Open In Colab\"/></a>"
      ]
    },
    {
      "cell_type": "code",
      "source": [
        "# google driveへ接続\n",
        "from google.colab import drive\n",
        "drive.mount('/content/drive')"
      ],
      "metadata": {
        "colab": {
          "base_uri": "https://localhost:8080/"
        },
        "id": "ptonTH2Dt0sh",
        "outputId": "e98b50d9-f51d-4efe-d98e-eedba0ce8380"
      },
      "execution_count": 1,
      "outputs": [
        {
          "output_type": "stream",
          "name": "stdout",
          "text": [
            "Mounted at /content/drive\n"
          ]
        }
      ]
    },
    {
      "cell_type": "code",
      "source": [
        "# APIキーの登録\n",
        "# signateからsignate.jsonを入手し， /contentに配置してください\n",
        "%mkdir ~/.signate\n",
        "%cp ./signate.json ~/.signate/signate.json"
      ],
      "metadata": {
        "id": "AOlVyMRwt4Mc"
      },
      "execution_count": 2,
      "outputs": []
    },
    {
      "cell_type": "code",
      "source": [
        "# 必要なライブラリをインストール\n",
        "%pip install signate"
      ],
      "metadata": {
        "id": "_PgXMQbMuYZR",
        "outputId": "4172a240-d34f-4683-fe79-0082007474e8",
        "colab": {
          "base_uri": "https://localhost:8080/"
        }
      },
      "execution_count": 3,
      "outputs": [
        {
          "output_type": "stream",
          "name": "stdout",
          "text": [
            "Collecting signate\n",
            "  Downloading signate-9.9.10-py3-none-any.whl (37 kB)\n",
            "Requirement already satisfied: click in /usr/local/lib/python3.10/dist-packages (from signate) (8.1.6)\n",
            "Requirement already satisfied: tabulate in /usr/local/lib/python3.10/dist-packages (from signate) (0.9.0)\n",
            "Collecting wget (from signate)\n",
            "  Downloading wget-3.2.zip (10 kB)\n",
            "  Preparing metadata (setup.py) ... \u001b[?25l\u001b[?25hdone\n",
            "Requirement already satisfied: urllib3>=1.26.7 in /usr/local/lib/python3.10/dist-packages (from signate) (1.26.16)\n",
            "Requirement already satisfied: six>=1.16 in /usr/local/lib/python3.10/dist-packages (from signate) (1.16.0)\n",
            "Requirement already satisfied: certifi in /usr/local/lib/python3.10/dist-packages (from signate) (2023.7.22)\n",
            "Requirement already satisfied: python-dateutil in /usr/local/lib/python3.10/dist-packages (from signate) (2.8.2)\n",
            "Building wheels for collected packages: wget\n",
            "  Building wheel for wget (setup.py) ... \u001b[?25l\u001b[?25hdone\n",
            "  Created wheel for wget: filename=wget-3.2-py3-none-any.whl size=9656 sha256=007b1278f9191624b415fee828ee03ce787d5bd45fcd10dd931c89f102322ba5\n",
            "  Stored in directory: /root/.cache/pip/wheels/8b/f1/7f/5c94f0a7a505ca1c81cd1d9208ae2064675d97582078e6c769\n",
            "Successfully built wget\n",
            "Installing collected packages: wget, signate\n",
            "Successfully installed signate-9.9.10 wget-3.2\n"
          ]
        }
      ]
    },
    {
      "cell_type": "code",
      "source": [
        "# コンペティションidを検索\n",
        "!signate list | grep テクノプロ"
      ],
      "metadata": {
        "colab": {
          "base_uri": "https://localhost:8080/"
        },
        "id": "9mcxRdcGuqJf",
        "outputId": "3274353e-e3be-4457-bd76-ef2ccf23994e"
      },
      "execution_count": 4,
      "outputs": [
        {
          "output_type": "stream",
          "name": "stdout",
          "text": [
            "           1106  テクノプロ・デザイン社 食品パッケージ画像解析チャレンジ（一般部門・学生部門）     2023-09-29  総額 ¥520,000                                                                    1\n"
          ]
        }
      ]
    },
    {
      "cell_type": "code",
      "source": [
        "# データをダウンロード\n",
        "%mkdir /content/drive/MyDrive/Food-Package-Image-Analysis-Challenge\n",
        "%mkdir /content/drive/MyDrive/Food-Package-Image-Analysis-Challenge/data\n",
        "%cd /content/drive/MyDrive/Food-Package-Image-Analysis-Challenge/data\n",
        "!signate download --competition-id=1106"
      ],
      "metadata": {
        "colab": {
          "base_uri": "https://localhost:8080/"
        },
        "id": "ul_8pJGiut8b",
        "outputId": "9537c735-3d19-4025-d916-b51d926ae34f"
      },
      "execution_count": 5,
      "outputs": [
        {
          "output_type": "stream",
          "name": "stdout",
          "text": [
            "/content/drive/MyDrive/Food-Package-Image-Analysis-Challenge/data\n",
            "dataset_definition.md\n",
            "\n",
            "train.csv\n",
            "\n",
            "sample_submit.csv\n",
            "\n",
            "test.zip\n",
            "\n",
            "train.zip\n",
            "\n",
            "\u001b[32m\n",
            "Download completed.\u001b[0m\n"
          ]
        }
      ]
    },
    {
      "cell_type": "code",
      "source": [
        "# ダウンロードされたデータの確認\n",
        "!ls"
      ],
      "metadata": {
        "colab": {
          "base_uri": "https://localhost:8080/"
        },
        "id": "YiJJhKruEJ--",
        "outputId": "52c01c94-ec8e-4b5e-e470-0fc381168948"
      },
      "execution_count": 6,
      "outputs": [
        {
          "output_type": "stream",
          "name": "stdout",
          "text": [
            "dataset_definition.md  sample_submit.csv  test.zip  train.csv  train.zip\n"
          ]
        }
      ]
    },
    {
      "cell_type": "code",
      "source": [
        "# zipファイルの解凍\n",
        "!unzip train.zip\n",
        "!unzip test.zip"
      ],
      "metadata": {
        "id": "4ZnIH2fRvXfc"
      },
      "execution_count": null,
      "outputs": []
    },
    {
      "cell_type": "code",
      "source": [
        "# 解凍されたデータの確認\n",
        "import pandas as pd\n",
        "from glob import glob\n",
        "\n",
        "train_csv = \"train.csv\"\n",
        "sample_submit_csv = \"sample_submit.csv\"\n",
        "\n",
        "train_len = len(list(glob(\"train/*\")))\n",
        "test_len = len(list(glob(\"test/*\")))\n",
        "train_csv_len = len(pd.read_csv(train_csv))\n",
        "sample_submit_csv_len = len(pd.read_csv(sample_submit_csv, header=None))\n",
        "\n",
        "print({\"train_len\": train_len, \"test_len\": test_len})\n",
        "print({\"train_csv_len\": train_csv_len, \"sample_submit_csv_len\": sample_submit_csv_len})\n",
        "if train_len != train_csv_len:\n",
        "    print(\"訓練用データがまだ反映されていません．\")\n",
        "if test_len != sample_submit_csv_len:\n",
        "    print(\"検証用データがまだ反映されていません．\")"
      ],
      "metadata": {
        "colab": {
          "base_uri": "https://localhost:8080/"
        },
        "id": "YlkOSjPuENhu",
        "outputId": "5c9a30a2-b002-4567-b692-e6e2c4e3383b"
      },
      "execution_count": 8,
      "outputs": [
        {
          "output_type": "stream",
          "name": "stdout",
          "text": [
            "{'train_len': 2176, 'test_len': 2180}\n",
            "{'train_csv_len': 2176, 'sample_submit_csv_len': 2180}\n"
          ]
        }
      ]
    },
    {
      "cell_type": "code",
      "source": [
        "# csvデータの確認\n",
        "train_df = pd.read_csv(train_csv)\n",
        "\n",
        "plt.figure(figsize=(4, 4))\n",
        "labels = [\"Label 0\", \"Label 1\"]\n",
        "sizes = train_df['label'].value_counts(normalize=True)\n",
        "plt.pie(sizes, labels=labels, autopct='%1.1f%%', startangle=140)\n",
        "plt.title(\"Label Distribution\")\n",
        "plt.show()"
      ],
      "metadata": {
        "colab": {
          "base_uri": "https://localhost:8080/",
          "height": 367
        },
        "id": "R4DUgDyoFt9I",
        "outputId": "036313d5-4740-4388-e58b-e2395a02de11"
      },
      "execution_count": 28,
      "outputs": [
        {
          "output_type": "display_data",
          "data": {
            "text/plain": [
              "<Figure size 400x400 with 1 Axes>"
            ],
            "image/png": "[encoded data removed]"
          },
          "metadata": {}
        }
      ]
    },
    {
      "cell_type": "code",
      "source": [
        "# ラベル別で確認\n",
        "drink_df = train_df[train_df[\"label\"] == 0]\n",
        "food_df = train_df[train_df[\"label\"] == 1]"
      ],
      "metadata": {
        "id": "LEhZO97xG-DK"
      },
      "execution_count": null,
      "outputs": []
    },
    {
      "cell_type": "code",
      "source": [
        "from pathlib import Path\n",
        "from PIL import Image\n",
        "import numpy as np\n",
        "import matplotlib.pyplot as plt\n",
        "\n",
        "def plot_histograms(image_names, title):\n",
        "    num_images = len(image_names)\n",
        "    num_cols = 2\n",
        "    num_rows = num_images // num_cols + (num_images % num_cols > 0)\n",
        "\n",
        "    plt.figure(figsize=(15, 5 * num_rows))\n",
        "\n",
        "    for idx, image_name in enumerate(image_names):\n",
        "        image_path = str(Path(\"train\") / image_name)\n",
        "        image = Image.open(image_path)\n",
        "        pixels = image.histogram()\n",
        "\n",
        "        plt.subplot(num_rows, num_cols * 2, idx * 2 + 1)\n",
        "        plt.imshow(image)\n",
        "        plt.title(f\"Image: {image_name}\")\n",
        "        plt.axis('off')\n",
        "\n",
        "        plt.subplot(num_rows, num_cols * 2, idx * 2 + 2)\n",
        "        bin_count = 50  # ビンの数を調整\n",
        "        plt.hist(pixels, bins=bin_count, range=(0, 256), color='blue', alpha=0.7)\n",
        "        plt.title(\"Pixel Value Histogram\")\n",
        "        plt.xlabel(\"Pixel Value\")\n",
        "        plt.ylabel(\"Frequency\")\n",
        "\n",
        "    plt.suptitle(title)\n",
        "    plt.tight_layout(rect=[0, 0, 1, 0.95])\n",
        "    plt.show()\n",
        "\n",
        "# 飲み物の画像ヒストグラムを表示\n",
        "drink_image_names = drink_df[\"image_name\"][:10]\n",
        "plot_histograms(drink_image_names, \"Drink Images\")\n",
        "\n",
        "# 食品の画像ヒストグラムを表示\n",
        "food_image_names = food_df[\"image_name\"][:10]\n",
        "plot_histograms(food_image_names, \"Food Images\")"
      ],
      "metadata": {
        "id": "J9wBRIVSJv8-"
      },
      "execution_count": null,
      "outputs": []
    },
    {
      "cell_type": "code",
      "source": [],
      "metadata": {
        "id": "rv1o8kWaEnCG"
      },
      "execution_count": null,
      "outputs": []
    }
  ]
}